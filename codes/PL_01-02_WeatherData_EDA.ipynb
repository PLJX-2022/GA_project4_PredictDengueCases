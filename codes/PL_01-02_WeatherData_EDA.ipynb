{
 "cells": [
  {
   "cell_type": "code",
   "execution_count": 1,
   "id": "c51f7608-c464-46eb-a6ed-246cdf1a266e",
   "metadata": {
    "execution": {
     "iopub.execute_input": "2023-04-08T20:39:08.756550Z",
     "iopub.status.busy": "2023-04-08T20:39:08.756241Z",
     "iopub.status.idle": "2023-04-08T20:39:08.938975Z",
     "shell.execute_reply": "2023-04-08T20:39:08.938634Z",
     "shell.execute_reply.started": "2023-04-08T20:39:08.756521Z"
    },
    "tags": []
   },
   "outputs": [],
   "source": [
    "#Import libraries\n",
    "import webbrowser\n",
    "import os\n",
    "import glob\n",
    "import chardet\n",
    "import datetime\n",
    "import numpy as np\n",
    "import pandas as pd"
   ]
  },
  {
   "cell_type": "code",
   "execution_count": 2,
   "id": "5c5e6d54-e092-4944-b3b1-ed4c1f3a948e",
   "metadata": {
    "execution": {
     "iopub.execute_input": "2023-04-08T20:39:08.940200Z",
     "iopub.status.busy": "2023-04-08T20:39:08.940079Z",
     "iopub.status.idle": "2023-04-08T20:39:08.945194Z",
     "shell.execute_reply": "2023-04-08T20:39:08.944643Z",
     "shell.execute_reply.started": "2023-04-08T20:39:08.940191Z"
    },
    "tags": []
   },
   "outputs": [],
   "source": [
    "stations={\n",
    "    'Paya Lebar': {\n",
    "        'code':      '06',\n",
    "        'latitude':  1.3524, \n",
    "        'longitude': 103.9007},\n",
    "    'Tengah':{\n",
    "        'code':      '23',\n",
    "        'latitude':  1.3858,\n",
    "        'longitude': 103.7114},\n",
    "    'Changi':{\n",
    "        'code':      '24',\n",
    "        'latitude':  1.3678, \n",
    "        'longitude': 103.9826},\n",
    "    'Seletar':{\n",
    "        'code':      '25',\n",
    "        'latitude':  1.4166, \n",
    "        'longitude': 103.8654},\n",
    "    'Tai Seng':{\n",
    "        'code':      '43',\n",
    "        'latitude':  1.3399, \n",
    "        'longitude': 103.8878},\n",
    "    'Jurong (West)':{\n",
    "        'code':      '44',\n",
    "        'latitude':  1.3455 , \n",
    "        'longitude': 103.6806 },\n",
    "    'Ang Mo Kio':{\n",
    "        'code':      '109',\n",
    "        'latitude':  1.3764  , \n",
    "        'longitude': 103.8492},\n",
    "    'Clementi':{\n",
    "        'code':      '50',\n",
    "        'latitude':  1.3337, \n",
    "        'longitude': 103.7768},\n",
    "    'Admiralty':{\n",
    "        'code':      '104',\n",
    "        'latitude':  1.4439, \n",
    "        'longitude': 103.7854},\n",
    "    'Sentosa Island':{\n",
    "        'code':      '60',\n",
    "        'latitude':  1.2500, \n",
    "        'longitude': 103.8279},\n",
    "    'Sembawang':{\n",
    "        'code':      '80',\n",
    "        'latitude':  1.4252, \n",
    "        'longitude': 103.8202},\n",
    "    'Boon Lay (East)':{\n",
    "        'code':      '86',\n",
    "        'latitude':  1.3302, \n",
    "        'longitude': 103.7205},\n",
    "    'Semakau Island':{\n",
    "        'code':      '102',\n",
    "        'latitude':  1.1890, \n",
    "        'longitude': 103.7680},\n",
    "    'Pulau Ubin':{\n",
    "        'code':      '106',\n",
    "        'latitude':  1.4168, \n",
    "        'longitude': 103.9673},\n",
    "    'East Coast Parkway':{\n",
    "        'code':      '107',\n",
    "        'latitude':  1.3134, \n",
    "        'longitude': 103.9619},\n",
    "    'Marina Barrage':{\n",
    "        'code':      '108',\n",
    "        'latitude':  1.2799, \n",
    "        'longitude': 103.8703},\n",
    "    'Newton':{\n",
    "        'code':      '111',\n",
    "        'latitude':  1.3106, \n",
    "        'longitude': 103.8365},\n",
    "    'Tuas South':{\n",
    "        'code':      '115',\n",
    "        'latitude':  1.2938, \n",
    "        'longitude': 103.6184},\n",
    "    'Pasir Panjang':{\n",
    "        'code':      '116',\n",
    "        'latitude':  1.2810, \n",
    "        'longitude': 103.7540},\n",
    "    'Jurong Island':{\n",
    "        'code':      '117',\n",
    "        'latitude':  1.2542, \n",
    "        'longitude': 103.6741},\n",
    "    'Choa Chu Kang (South)':{\n",
    "        'code':      '121',\n",
    "        'latitude':  1.3729, \n",
    "        'longitude': 103.722},\n",
    "    'Khatib':{\n",
    "        'code':      '122',\n",
    "        'latitude':  1.4173, \n",
    "        'longitude': 103.8249}\n",
    "}"
   ]
  },
  {
   "cell_type": "raw",
   "id": "f2a8ea81-7c5a-48f3-8cf5-eaec68c25a39",
   "metadata": {
    "execution": {
     "iopub.execute_input": "2023-04-08T18:32:15.835483Z",
     "iopub.status.busy": "2023-04-08T18:32:15.834902Z",
     "iopub.status.idle": "2023-04-08T18:32:37.322084Z",
     "shell.execute_reply": "2023-04-08T18:32:37.321544Z",
     "shell.execute_reply.started": "2023-04-08T18:32:15.835449Z"
    },
    "tags": []
   },
   "source": [
    "for station in stations.keys():\n",
    "    for year in range(2013,2020+1):\n",
    "        for month in range(1,12+1):\n",
    "            ym_str=str(year)+str(month).rjust(2, \"0\")\n",
    "            code=stations[station]['code']\n",
    "            url=\"http://www.weather.gov.sg/files/dailydata/DAILYDATA_S\"+code+\"_\"+ym_str+\".csv\"\n",
    "            try:\n",
    "                webbrowser.open(url)\n",
    "            except:\n",
    "                pass\n",
    "    \n",
    "    print()"
   ]
  },
  {
   "cell_type": "markdown",
   "id": "ec7c794c-9d6f-45bc-bb87-13ed6f1a8f69",
   "metadata": {},
   "source": [
    "Missing files:\n",
    "S121_201505\n",
    "S111_201611\n",
    "S111_201610\n",
    "S111_201609\n",
    "S106_201311\n",
    "S106_201312\n",
    "S106_201401\n",
    "S106_201402\n",
    "\n",
    "S102_201312\n",
    "S102_201411\n",
    "S102_201401\n",
    "S86_202012\n",
    "...\n",
    "S86_201602\n",
    "S60_201612\n",
    "\n",
    "S104_201409\n",
    "S44_201412\n",
    "S44_201411\n",
    "S44_201410\n",
    "S44_201409\n",
    "S44_201408\n",
    "S44_201407\n"
   ]
  },
  {
   "cell_type": "code",
   "execution_count": 3,
   "id": "a2ce1a82-0604-4555-8f11-2c5437771052",
   "metadata": {
    "execution": {
     "iopub.execute_input": "2023-04-08T20:39:08.945777Z",
     "iopub.status.busy": "2023-04-08T20:39:08.945693Z",
     "iopub.status.idle": "2023-04-08T20:39:26.534769Z",
     "shell.execute_reply": "2023-04-08T20:39:26.534354Z",
     "shell.execute_reply.started": "2023-04-08T20:39:08.945768Z"
    },
    "tags": []
   },
   "outputs": [],
   "source": [
    "weather_df=pd.DataFrame()\n",
    "# Append all 2,035 monthly files together\n",
    "for station in stations.keys():\n",
    "    df_append = pd.DataFrame()\n",
    "    code=stations[station]['code']\n",
    "    path = \"../assets/climate_historical_daily/DAILYDATA_S\"+code+\"_*.csv\"\n",
    "\n",
    "    for file in glob.glob(path):\n",
    "        with open(file,'rb') as f:\n",
    "            enc = chardet.detect(f.read())\n",
    "        df_temp = pd.read_csv(file,encoding = enc['encoding']) # otherwise will have uft-8 error as is in ISO-8859-1 format\n",
    "        df_temp = df_temp.rename(columns=str.lower) # columns names in different case between files\n",
    "        df_append = pd.concat(objs =[df_append,df_temp],axis=0)\n",
    "        \n",
    "    df_append['station_check']=station\n",
    "    df_append['station_code']=code\n",
    "    df_append['latitude']=stations[station]['latitude']\n",
    "    df_append['longitude']=stations[station]['longitude']\n",
    "    weather_df = pd.concat(objs =[weather_df,df_append],axis=0)"
   ]
  },
  {
   "cell_type": "code",
   "execution_count": 4,
   "id": "f4152dff-6079-43a9-a7fd-d8cf79594045",
   "metadata": {
    "execution": {
     "iopub.execute_input": "2023-04-08T20:39:26.535332Z",
     "iopub.status.busy": "2023-04-08T20:39:26.535228Z",
     "iopub.status.idle": "2023-04-08T20:39:26.541941Z",
     "shell.execute_reply": "2023-04-08T20:39:26.541652Z",
     "shell.execute_reply.started": "2023-04-08T20:39:26.535323Z"
    },
    "tags": []
   },
   "outputs": [
    {
     "data": {
      "text/plain": [
       "True    61939\n",
       "Name: check, dtype: int64"
      ]
     },
     "execution_count": 4,
     "metadata": {},
     "output_type": "execute_result"
    }
   ],
   "source": [
    "# double check if station code and station name is aligned.\n",
    "weather_df['check']=weather_df['station']==weather_df['station_check']\n",
    "weather_df['check'].value_counts()"
   ]
  },
  {
   "cell_type": "code",
   "execution_count": 5,
   "id": "dc4d0c2f-4f37-4ad3-a130-d699a02cf961",
   "metadata": {
    "execution": {
     "iopub.execute_input": "2023-04-08T20:39:26.542479Z",
     "iopub.status.busy": "2023-04-08T20:39:26.542385Z",
     "iopub.status.idle": "2023-04-08T20:39:26.550133Z",
     "shell.execute_reply": "2023-04-08T20:39:26.549671Z",
     "shell.execute_reply.started": "2023-04-08T20:39:26.542469Z"
    },
    "tags": []
   },
   "outputs": [],
   "source": [
    "weather_df=weather_df.drop(['station_check','check'],axis=1)"
   ]
  },
  {
   "cell_type": "code",
   "execution_count": 6,
   "id": "2269b553-8a9e-49f2-ad1e-85f4748093e6",
   "metadata": {
    "execution": {
     "iopub.execute_input": "2023-04-08T20:39:26.551607Z",
     "iopub.status.busy": "2023-04-08T20:39:26.551474Z",
     "iopub.status.idle": "2023-04-08T20:39:26.555366Z",
     "shell.execute_reply": "2023-04-08T20:39:26.555039Z",
     "shell.execute_reply.started": "2023-04-08T20:39:26.551594Z"
    },
    "tags": []
   },
   "outputs": [],
   "source": [
    "new_columns_dict = {\n",
    "    'station': 'station',\n",
    "    'year':'year',\n",
    "    'month': 'month',\n",
    "    'day': 'day',\n",
    "    'daily rainfall total (mm)': 'total_daily_rainfall',\n",
    "    'highest 30 min rainfall (mm)': 'highest_30min_rainfall',\n",
    "    'highest 60 min rainfall (mm)': 'highest_60min_rainfall',\n",
    "    'highest 120 min rainfall (mm)': 'highest_120min_rainfall',\n",
    "    'mean temperature (°c)': 'mean_temp',\n",
    "    'maximum temperature (°c)': 'max_temp',\n",
    "    'minimum temperature (°c)': 'min_temp',\n",
    "    'mean wind speed (km/h)': 'mean_wind_sp',\n",
    "    'max wind speed (km/h)': 'max_wind_sp'\n",
    "}\n",
    "\n",
    "weather_df.rename(columns=new_columns_dict, inplace=True)"
   ]
  },
  {
   "cell_type": "code",
   "execution_count": 7,
   "id": "b4ba3e5e-f46b-4722-a44f-0a411c54c3e8",
   "metadata": {
    "execution": {
     "iopub.execute_input": "2023-04-08T20:39:26.557552Z",
     "iopub.status.busy": "2023-04-08T20:39:26.557448Z",
     "iopub.status.idle": "2023-04-08T20:39:26.603908Z",
     "shell.execute_reply": "2023-04-08T20:39:26.603588Z",
     "shell.execute_reply.started": "2023-04-08T20:39:26.557544Z"
    },
    "tags": []
   },
   "outputs": [
    {
     "data": {
      "text/plain": [
       "station                      0\n",
       "year                        96\n",
       "month                       96\n",
       "day                         96\n",
       "total_daily_rainfall         0\n",
       "highest_30min_rainfall       0\n",
       "highest_60min_rainfall       0\n",
       "highest_120min_rainfall      0\n",
       "mean_temp                    0\n",
       "max_temp                   235\n",
       "min_temp                   247\n",
       "mean_wind_sp                 0\n",
       "max_wind_sp                274\n",
       "station_code                 0\n",
       "latitude                     0\n",
       "longitude                    0\n",
       "dtype: int64"
      ]
     },
     "execution_count": 7,
     "metadata": {},
     "output_type": "execute_result"
    }
   ],
   "source": [
    "weather_df.isna().sum()"
   ]
  },
  {
   "cell_type": "code",
   "execution_count": 8,
   "id": "32ba889a-a59e-4841-a8b8-92bcc62eaa56",
   "metadata": {
    "execution": {
     "iopub.execute_input": "2023-04-08T20:39:26.604538Z",
     "iopub.status.busy": "2023-04-08T20:39:26.604448Z",
     "iopub.status.idle": "2023-04-08T20:39:26.624175Z",
     "shell.execute_reply": "2023-04-08T20:39:26.623753Z",
     "shell.execute_reply.started": "2023-04-08T20:39:26.604530Z"
    },
    "tags": []
   },
   "outputs": [],
   "source": [
    "weather_df=weather_df.dropna(subset=['year', 'month', 'day'], how='any', axis=0)"
   ]
  },
  {
   "cell_type": "code",
   "execution_count": 9,
   "id": "96a8fe85-14a3-4a0e-9561-dd8d143ddf07",
   "metadata": {
    "execution": {
     "iopub.execute_input": "2023-04-08T20:39:26.624797Z",
     "iopub.status.busy": "2023-04-08T20:39:26.624690Z",
     "iopub.status.idle": "2023-04-08T20:39:26.647258Z",
     "shell.execute_reply": "2023-04-08T20:39:26.646877Z",
     "shell.execute_reply.started": "2023-04-08T20:39:26.624788Z"
    },
    "tags": []
   },
   "outputs": [],
   "source": [
    "weather_df['date'] = pd.to_datetime(weather_df[['year', 'month', 'day']])"
   ]
  },
  {
   "cell_type": "code",
   "execution_count": 10,
   "id": "6ba440e6-1470-41c3-92ee-ee2dee606fbe",
   "metadata": {
    "execution": {
     "iopub.execute_input": "2023-04-08T20:39:26.647791Z",
     "iopub.status.busy": "2023-04-08T20:39:26.647701Z",
     "iopub.status.idle": "2023-04-08T20:39:26.697970Z",
     "shell.execute_reply": "2023-04-08T20:39:26.697543Z",
     "shell.execute_reply.started": "2023-04-08T20:39:26.647783Z"
    },
    "tags": []
   },
   "outputs": [],
   "source": [
    "weather_df['week'] = weather_df['date'].apply(lambda x: x.isocalendar()[1])"
   ]
  },
  {
   "cell_type": "code",
   "execution_count": 11,
   "id": "9c62a70b-4780-4301-8819-aab340568f2a",
   "metadata": {
    "execution": {
     "iopub.execute_input": "2023-04-08T20:39:26.698607Z",
     "iopub.status.busy": "2023-04-08T20:39:26.698505Z",
     "iopub.status.idle": "2023-04-08T20:39:26.715174Z",
     "shell.execute_reply": "2023-04-08T20:39:26.714750Z",
     "shell.execute_reply.started": "2023-04-08T20:39:26.698597Z"
    },
    "tags": []
   },
   "outputs": [],
   "source": [
    "# align with cluster.csv time period\n",
    "start_date = '2013-05-23'\n",
    "end_date = '2020-11-06'\n",
    "\n",
    "# filter the dataframe to keep only observations within the date range\n",
    "weather_df = weather_df[(weather_df['date'] >= start_date) & (weather_df['date'] <= end_date)].copy(deep=True)"
   ]
  },
  {
   "cell_type": "code",
   "execution_count": 12,
   "id": "8207d260-af02-4246-b09e-ccb831876476",
   "metadata": {
    "execution": {
     "iopub.execute_input": "2023-04-08T20:39:26.715753Z",
     "iopub.status.busy": "2023-04-08T20:39:26.715655Z",
     "iopub.status.idle": "2023-04-08T20:39:26.721753Z",
     "shell.execute_reply": "2023-04-08T20:39:26.721493Z",
     "shell.execute_reply.started": "2023-04-08T20:39:26.715744Z"
    },
    "tags": []
   },
   "outputs": [
    {
     "data": {
      "text/plain": [
       "count                            57564\n",
       "mean     2017-02-04 14:22:08.330206464\n",
       "min                2013-05-23 00:00:00\n",
       "25%                2015-03-27 00:00:00\n",
       "50%                2017-02-02 00:00:00\n",
       "75%                2018-12-19 00:00:00\n",
       "max                2020-11-06 00:00:00\n",
       "Name: date, dtype: object"
      ]
     },
     "execution_count": 12,
     "metadata": {},
     "output_type": "execute_result"
    }
   ],
   "source": [
    "weather_df['date'].describe(datetime_is_numeric=True)"
   ]
  },
  {
   "cell_type": "code",
   "execution_count": 13,
   "id": "bb13fb97-e1ba-441e-bc13-d721cf8f73d0",
   "metadata": {
    "execution": {
     "iopub.execute_input": "2023-04-08T20:39:26.722241Z",
     "iopub.status.busy": "2023-04-08T20:39:26.722161Z",
     "iopub.status.idle": "2023-04-08T20:39:26.926017Z",
     "shell.execute_reply": "2023-04-08T20:39:26.925567Z",
     "shell.execute_reply.started": "2023-04-08T20:39:26.722233Z"
    },
    "tags": []
   },
   "outputs": [],
   "source": [
    "col_list=['total_daily_rainfall','highest_30min_rainfall','highest_60min_rainfall','highest_120min_rainfall',\n",
    "          'mean_temp','max_temp','min_temp',\n",
    "          'mean_wind_sp','max_wind_sp']\n",
    "for col in col_list:\n",
    "    weather_df[col] = weather_df[col].map(lambda x: str(x).strip()).replace(['—','-'], np.nan).map(lambda x: float(x)) #different '-'s"
   ]
  },
  {
   "cell_type": "code",
   "execution_count": 14,
   "id": "76056755-557e-491c-9fba-2e0139c2592f",
   "metadata": {
    "execution": {
     "iopub.execute_input": "2023-04-08T20:39:26.926585Z",
     "iopub.status.busy": "2023-04-08T20:39:26.926477Z",
     "iopub.status.idle": "2023-04-08T20:39:26.938348Z",
     "shell.execute_reply": "2023-04-08T20:39:26.938049Z",
     "shell.execute_reply.started": "2023-04-08T20:39:26.926576Z"
    },
    "tags": []
   },
   "outputs": [],
   "source": [
    "weather_df['rainy_day'] = weather_df['total_daily_rainfall'].apply(lambda x: 1 if x>=0.2 else 0)"
   ]
  },
  {
   "cell_type": "code",
   "execution_count": 15,
   "id": "673137f2-c19e-41ed-baf6-623960aaea35",
   "metadata": {
    "execution": {
     "iopub.execute_input": "2023-04-08T20:39:26.939045Z",
     "iopub.status.busy": "2023-04-08T20:39:26.938936Z",
     "iopub.status.idle": "2023-04-08T20:39:26.948687Z",
     "shell.execute_reply": "2023-04-08T20:39:26.948294Z",
     "shell.execute_reply.started": "2023-04-08T20:39:26.939036Z"
    },
    "scrolled": true,
    "tags": []
   },
   "outputs": [
    {
     "data": {
      "text/html": [
       "<div>\n",
       "<style scoped>\n",
       "    .dataframe tbody tr th:only-of-type {\n",
       "        vertical-align: middle;\n",
       "    }\n",
       "\n",
       "    .dataframe tbody tr th {\n",
       "        vertical-align: top;\n",
       "    }\n",
       "\n",
       "    .dataframe thead th {\n",
       "        text-align: right;\n",
       "    }\n",
       "</style>\n",
       "<table border=\"1\" class=\"dataframe\">\n",
       "  <thead>\n",
       "    <tr style=\"text-align: right;\">\n",
       "      <th></th>\n",
       "      <th>station</th>\n",
       "      <th>year</th>\n",
       "      <th>month</th>\n",
       "      <th>day</th>\n",
       "      <th>total_daily_rainfall</th>\n",
       "      <th>highest_30min_rainfall</th>\n",
       "      <th>highest_60min_rainfall</th>\n",
       "      <th>highest_120min_rainfall</th>\n",
       "      <th>mean_temp</th>\n",
       "      <th>max_temp</th>\n",
       "      <th>min_temp</th>\n",
       "      <th>mean_wind_sp</th>\n",
       "      <th>max_wind_sp</th>\n",
       "      <th>station_code</th>\n",
       "      <th>latitude</th>\n",
       "      <th>longitude</th>\n",
       "      <th>date</th>\n",
       "      <th>week</th>\n",
       "      <th>rainy_day</th>\n",
       "    </tr>\n",
       "  </thead>\n",
       "  <tbody>\n",
       "    <tr>\n",
       "      <th>0</th>\n",
       "      <td>Paya Lebar</td>\n",
       "      <td>2018.0</td>\n",
       "      <td>1.0</td>\n",
       "      <td>1.0</td>\n",
       "      <td>33.2</td>\n",
       "      <td>NaN</td>\n",
       "      <td>NaN</td>\n",
       "      <td>NaN</td>\n",
       "      <td>25.2</td>\n",
       "      <td>27.3</td>\n",
       "      <td>23.8</td>\n",
       "      <td>7.2</td>\n",
       "      <td>27.7</td>\n",
       "      <td>06</td>\n",
       "      <td>1.3524</td>\n",
       "      <td>103.9007</td>\n",
       "      <td>2018-01-01</td>\n",
       "      <td>1</td>\n",
       "      <td>1</td>\n",
       "    </tr>\n",
       "    <tr>\n",
       "      <th>1</th>\n",
       "      <td>Paya Lebar</td>\n",
       "      <td>2018.0</td>\n",
       "      <td>1.0</td>\n",
       "      <td>2.0</td>\n",
       "      <td>10.2</td>\n",
       "      <td>NaN</td>\n",
       "      <td>NaN</td>\n",
       "      <td>NaN</td>\n",
       "      <td>25.8</td>\n",
       "      <td>28.4</td>\n",
       "      <td>24.1</td>\n",
       "      <td>8.6</td>\n",
       "      <td>25.9</td>\n",
       "      <td>06</td>\n",
       "      <td>1.3524</td>\n",
       "      <td>103.9007</td>\n",
       "      <td>2018-01-02</td>\n",
       "      <td>1</td>\n",
       "      <td>1</td>\n",
       "    </tr>\n",
       "    <tr>\n",
       "      <th>2</th>\n",
       "      <td>Paya Lebar</td>\n",
       "      <td>2018.0</td>\n",
       "      <td>1.0</td>\n",
       "      <td>3.0</td>\n",
       "      <td>62.2</td>\n",
       "      <td>NaN</td>\n",
       "      <td>NaN</td>\n",
       "      <td>NaN</td>\n",
       "      <td>26.8</td>\n",
       "      <td>32.1</td>\n",
       "      <td>24.5</td>\n",
       "      <td>7.6</td>\n",
       "      <td>31.3</td>\n",
       "      <td>06</td>\n",
       "      <td>1.3524</td>\n",
       "      <td>103.9007</td>\n",
       "      <td>2018-01-03</td>\n",
       "      <td>1</td>\n",
       "      <td>1</td>\n",
       "    </tr>\n",
       "    <tr>\n",
       "      <th>3</th>\n",
       "      <td>Paya Lebar</td>\n",
       "      <td>2018.0</td>\n",
       "      <td>1.0</td>\n",
       "      <td>4.0</td>\n",
       "      <td>0.3</td>\n",
       "      <td>NaN</td>\n",
       "      <td>NaN</td>\n",
       "      <td>NaN</td>\n",
       "      <td>26.9</td>\n",
       "      <td>29.5</td>\n",
       "      <td>25.0</td>\n",
       "      <td>9.4</td>\n",
       "      <td>33.5</td>\n",
       "      <td>06</td>\n",
       "      <td>1.3524</td>\n",
       "      <td>103.9007</td>\n",
       "      <td>2018-01-04</td>\n",
       "      <td>1</td>\n",
       "      <td>1</td>\n",
       "    </tr>\n",
       "    <tr>\n",
       "      <th>4</th>\n",
       "      <td>Paya Lebar</td>\n",
       "      <td>2018.0</td>\n",
       "      <td>1.0</td>\n",
       "      <td>5.0</td>\n",
       "      <td>1.5</td>\n",
       "      <td>NaN</td>\n",
       "      <td>NaN</td>\n",
       "      <td>NaN</td>\n",
       "      <td>26.8</td>\n",
       "      <td>30.0</td>\n",
       "      <td>24.3</td>\n",
       "      <td>9.0</td>\n",
       "      <td>24.1</td>\n",
       "      <td>06</td>\n",
       "      <td>1.3524</td>\n",
       "      <td>103.9007</td>\n",
       "      <td>2018-01-05</td>\n",
       "      <td>1</td>\n",
       "      <td>1</td>\n",
       "    </tr>\n",
       "  </tbody>\n",
       "</table>\n",
       "</div>"
      ],
      "text/plain": [
       "      station    year  month  day  total_daily_rainfall  \\\n",
       "0  Paya Lebar  2018.0    1.0  1.0                  33.2   \n",
       "1  Paya Lebar  2018.0    1.0  2.0                  10.2   \n",
       "2  Paya Lebar  2018.0    1.0  3.0                  62.2   \n",
       "3  Paya Lebar  2018.0    1.0  4.0                   0.3   \n",
       "4  Paya Lebar  2018.0    1.0  5.0                   1.5   \n",
       "\n",
       "   highest_30min_rainfall  highest_60min_rainfall  highest_120min_rainfall  \\\n",
       "0                     NaN                     NaN                      NaN   \n",
       "1                     NaN                     NaN                      NaN   \n",
       "2                     NaN                     NaN                      NaN   \n",
       "3                     NaN                     NaN                      NaN   \n",
       "4                     NaN                     NaN                      NaN   \n",
       "\n",
       "   mean_temp  max_temp  min_temp  mean_wind_sp  max_wind_sp station_code  \\\n",
       "0       25.2      27.3      23.8           7.2         27.7           06   \n",
       "1       25.8      28.4      24.1           8.6         25.9           06   \n",
       "2       26.8      32.1      24.5           7.6         31.3           06   \n",
       "3       26.9      29.5      25.0           9.4         33.5           06   \n",
       "4       26.8      30.0      24.3           9.0         24.1           06   \n",
       "\n",
       "   latitude  longitude       date  week  rainy_day  \n",
       "0    1.3524   103.9007 2018-01-01     1          1  \n",
       "1    1.3524   103.9007 2018-01-02     1          1  \n",
       "2    1.3524   103.9007 2018-01-03     1          1  \n",
       "3    1.3524   103.9007 2018-01-04     1          1  \n",
       "4    1.3524   103.9007 2018-01-05     1          1  "
      ]
     },
     "execution_count": 15,
     "metadata": {},
     "output_type": "execute_result"
    }
   ],
   "source": [
    "weather_df.head()"
   ]
  },
  {
   "cell_type": "code",
   "execution_count": 16,
   "id": "e3a5526f-4406-4617-8725-5c54fb4331d0",
   "metadata": {
    "execution": {
     "iopub.execute_input": "2023-04-08T20:39:26.949426Z",
     "iopub.status.busy": "2023-04-08T20:39:26.949337Z",
     "iopub.status.idle": "2023-04-08T20:39:26.953075Z",
     "shell.execute_reply": "2023-04-08T20:39:26.952611Z",
     "shell.execute_reply.started": "2023-04-08T20:39:26.949418Z"
    },
    "tags": []
   },
   "outputs": [],
   "source": [
    "# create a function to find region of a location using its coordinates:\n",
    "\n",
    "def get_region(lat, lng):\n",
    "    \n",
    "    # define the boundaries of each region in Singapore\n",
    "\n",
    "    central_region = [(1.2848, 103.7722), (1.3199, 103.9070)]\n",
    "    east_region = [(1.3200, 103.8862), (1.3730, 103.9910)]\n",
    "    north_region = [(1.4153, 103.7019), (1.4543, 103.8205)]\n",
    "    northeast_region = [(1.3600, 103.8536), (1.3984, 103.9200)]\n",
    "    west_region = [(1.2058, 103.6953), (1.3912, 103.8353)]\n",
    "\n",
    "\n",
    "    # check if the given coordinates fall within one of the boundaries\n",
    "    if lat <= 1.3200 and  103.7722 <= lng <= 103.9070:\n",
    "        return 'Central'\n",
    "    elif lat <= 1.3730 and 103.8862 <= lng:\n",
    "        return 'East'\n",
    "    elif 1.32 <= lat and lng <= 104:\n",
    "        return 'North'\n",
    "    elif lng <= 103.7722:\n",
    "        return 'West'\n",
    "    elif 1.356 <= lat and 103.8536 <= lng:\n",
    "        return 'Northeast'\n",
    "    else:\n",
    "        return 'Unknown'"
   ]
  },
  {
   "cell_type": "code",
   "execution_count": 17,
   "id": "a3b456e3-1477-4197-a752-c3791947bd30",
   "metadata": {
    "execution": {
     "iopub.execute_input": "2023-04-08T20:39:26.953640Z",
     "iopub.status.busy": "2023-04-08T20:39:26.953558Z",
     "iopub.status.idle": "2023-04-08T20:39:27.215920Z",
     "shell.execute_reply": "2023-04-08T20:39:27.215587Z",
     "shell.execute_reply.started": "2023-04-08T20:39:26.953631Z"
    },
    "tags": []
   },
   "outputs": [],
   "source": [
    "# add a new column 'region' with the corresponding region for each coordinate\n",
    "weather_df['region'] = weather_df.apply(lambda row: get_region(row['latitude'],\n",
    "                                                               row['longitude']), \n",
    "                                        axis=1)"
   ]
  },
  {
   "cell_type": "code",
   "execution_count": 18,
   "id": "0a103969-8a58-4c7d-86d9-c8faa2e78458",
   "metadata": {
    "execution": {
     "iopub.execute_input": "2023-04-08T20:39:27.216410Z",
     "iopub.status.busy": "2023-04-08T20:39:27.216313Z",
     "iopub.status.idle": "2023-04-08T20:39:27.221243Z",
     "shell.execute_reply": "2023-04-08T20:39:27.220894Z",
     "shell.execute_reply.started": "2023-04-08T20:39:27.216401Z"
    },
    "tags": []
   },
   "outputs": [
    {
     "data": {
      "text/plain": [
       "North      27869\n",
       "East       10900\n",
       "West       10742\n",
       "Central     8053\n",
       "Name: region, dtype: int64"
      ]
     },
     "execution_count": 18,
     "metadata": {},
     "output_type": "execute_result"
    }
   ],
   "source": [
    "weather_df['region'].value_counts()"
   ]
  },
  {
   "cell_type": "code",
   "execution_count": 19,
   "id": "5f02b61e-4ca9-405c-af9e-0b7dceef9201",
   "metadata": {
    "execution": {
     "iopub.execute_input": "2023-04-08T20:39:27.221724Z",
     "iopub.status.busy": "2023-04-08T20:39:27.221642Z",
     "iopub.status.idle": "2023-04-08T20:39:27.229768Z",
     "shell.execute_reply": "2023-04-08T20:39:27.229400Z",
     "shell.execute_reply.started": "2023-04-08T20:39:27.221715Z"
    },
    "tags": []
   },
   "outputs": [
    {
     "data": {
      "text/plain": [
       "region   station              \n",
       "Central  Marina Barrage           2725\n",
       "         Newton                   2634\n",
       "         Sentosa Island           2694\n",
       "East     Changi                   2725\n",
       "         East Coast Parkway       2725\n",
       "         Paya Lebar               2725\n",
       "         Tai Seng                 2725\n",
       "North    Admiralty                2695\n",
       "         Ang Mo Kio               2725\n",
       "         Boon Lay (East)           984\n",
       "         Choa Chu Kang (South)    2694\n",
       "         Clementi                 2725\n",
       "         Jurong (West)            2541\n",
       "         Khatib                   2725\n",
       "         Pulau Ubin               2605\n",
       "         Seletar                  2725\n",
       "         Sembawang                2725\n",
       "         Tengah                   2725\n",
       "West     Jurong Island            2725\n",
       "         Pasir Panjang            2725\n",
       "         Semakau Island           2567\n",
       "         Tuas South               2725\n",
       "dtype: int64"
      ]
     },
     "execution_count": 19,
     "metadata": {},
     "output_type": "execute_result"
    }
   ],
   "source": [
    "counts = weather_df.groupby(['region', 'station']).size()\n",
    "counts"
   ]
  },
  {
   "cell_type": "code",
   "execution_count": 21,
   "id": "7f3d9a84-42aa-4fd3-9905-1efd2c61dd3d",
   "metadata": {
    "execution": {
     "iopub.execute_input": "2023-04-08T20:39:27.234839Z",
     "iopub.status.busy": "2023-04-08T20:39:27.234685Z",
     "iopub.status.idle": "2023-04-08T20:39:27.496717Z",
     "shell.execute_reply": "2023-04-08T20:39:27.496386Z",
     "shell.execute_reply.started": "2023-04-08T20:39:27.234770Z"
    }
   },
   "outputs": [],
   "source": [
    "weather_df.to_csv('../assets/climate_historical_daily_2013-2019.csv',index=False)"
   ]
  },
  {
   "cell_type": "code",
   "execution_count": 22,
   "id": "eb39b69a-a836-4dbd-90c6-a4710f08edbd",
   "metadata": {
    "execution": {
     "iopub.execute_input": "2023-04-08T20:39:27.499794Z",
     "iopub.status.busy": "2023-04-08T20:39:27.499680Z",
     "iopub.status.idle": "2023-04-08T20:39:27.503624Z",
     "shell.execute_reply": "2023-04-08T20:39:27.503186Z",
     "shell.execute_reply.started": "2023-04-08T20:39:27.499784Z"
    },
    "tags": []
   },
   "outputs": [],
   "source": [
    "weather_df=weather_df.drop(['month','day','station_code', 'latitude', 'longitude', 'date'],axis=1)"
   ]
  },
  {
   "cell_type": "code",
   "execution_count": 23,
   "id": "dba57ae9-aef5-4ed7-a005-7e425b5eb7ad",
   "metadata": {
    "execution": {
     "iopub.execute_input": "2023-04-08T20:39:27.504190Z",
     "iopub.status.busy": "2023-04-08T20:39:27.504062Z",
     "iopub.status.idle": "2023-04-08T20:39:27.514639Z",
     "shell.execute_reply": "2023-04-08T20:39:27.514320Z",
     "shell.execute_reply.started": "2023-04-08T20:39:27.504180Z"
    },
    "tags": []
   },
   "outputs": [],
   "source": [
    "aggweather_df = weather_df.groupby(['year', 'week', 'region']).agg({'total_daily_rainfall': 'sum',\n",
    "                                                                    'highest_30min_rainfall': 'max',\n",
    "                                                                    'highest_60min_rainfall': 'max',\n",
    "                                                                    'highest_120min_rainfall': 'max',\n",
    "                                                                    'max_wind_sp': 'max',\n",
    "                                                                    'max_temp': 'max',\n",
    "                                                                    'rainy_day': 'max',\n",
    "                                                                    'mean_temp': 'mean',\n",
    "                                                                    'mean_wind_sp': 'mean',\n",
    "                                                                    'min_temp': 'min'})"
   ]
  },
  {
   "cell_type": "code",
   "execution_count": 24,
   "id": "543871a1-4871-4b9e-8581-e5bb5641f693",
   "metadata": {
    "execution": {
     "iopub.execute_input": "2023-04-08T20:39:27.515209Z",
     "iopub.status.busy": "2023-04-08T20:39:27.515107Z",
     "iopub.status.idle": "2023-04-08T20:39:27.524628Z",
     "shell.execute_reply": "2023-04-08T20:39:27.524313Z",
     "shell.execute_reply.started": "2023-04-08T20:39:27.515199Z"
    },
    "tags": []
   },
   "outputs": [
    {
     "data": {
      "text/html": [
       "<div>\n",
       "<style scoped>\n",
       "    .dataframe tbody tr th:only-of-type {\n",
       "        vertical-align: middle;\n",
       "    }\n",
       "\n",
       "    .dataframe tbody tr th {\n",
       "        vertical-align: top;\n",
       "    }\n",
       "\n",
       "    .dataframe thead th {\n",
       "        text-align: right;\n",
       "    }\n",
       "</style>\n",
       "<table border=\"1\" class=\"dataframe\">\n",
       "  <thead>\n",
       "    <tr style=\"text-align: right;\">\n",
       "      <th></th>\n",
       "      <th>year</th>\n",
       "      <th>week</th>\n",
       "      <th>region</th>\n",
       "      <th>total_daily_rainfall</th>\n",
       "      <th>highest_30min_rainfall</th>\n",
       "      <th>highest_60min_rainfall</th>\n",
       "      <th>highest_120min_rainfall</th>\n",
       "      <th>max_wind_sp</th>\n",
       "      <th>max_temp</th>\n",
       "      <th>rainy_day</th>\n",
       "      <th>mean_temp</th>\n",
       "      <th>mean_wind_sp</th>\n",
       "      <th>min_temp</th>\n",
       "    </tr>\n",
       "  </thead>\n",
       "  <tbody>\n",
       "    <tr>\n",
       "      <th>0</th>\n",
       "      <td>2013.0</td>\n",
       "      <td>1</td>\n",
       "      <td>Central</td>\n",
       "      <td>2.6</td>\n",
       "      <td>NaN</td>\n",
       "      <td>NaN</td>\n",
       "      <td>NaN</td>\n",
       "      <td>48.6</td>\n",
       "      <td>30.6</td>\n",
       "      <td>1</td>\n",
       "      <td>26.675000</td>\n",
       "      <td>8.920000</td>\n",
       "      <td>24.8</td>\n",
       "    </tr>\n",
       "    <tr>\n",
       "      <th>1</th>\n",
       "      <td>2013.0</td>\n",
       "      <td>1</td>\n",
       "      <td>East</td>\n",
       "      <td>28.0</td>\n",
       "      <td>NaN</td>\n",
       "      <td>NaN</td>\n",
       "      <td>NaN</td>\n",
       "      <td>39.2</td>\n",
       "      <td>30.4</td>\n",
       "      <td>1</td>\n",
       "      <td>26.483333</td>\n",
       "      <td>12.157143</td>\n",
       "      <td>24.8</td>\n",
       "    </tr>\n",
       "    <tr>\n",
       "      <th>2</th>\n",
       "      <td>2013.0</td>\n",
       "      <td>1</td>\n",
       "      <td>North</td>\n",
       "      <td>50.2</td>\n",
       "      <td>NaN</td>\n",
       "      <td>NaN</td>\n",
       "      <td>NaN</td>\n",
       "      <td>40.7</td>\n",
       "      <td>31.5</td>\n",
       "      <td>1</td>\n",
       "      <td>26.000000</td>\n",
       "      <td>9.289474</td>\n",
       "      <td>23.6</td>\n",
       "    </tr>\n",
       "    <tr>\n",
       "      <th>3</th>\n",
       "      <td>2013.0</td>\n",
       "      <td>1</td>\n",
       "      <td>West</td>\n",
       "      <td>22.8</td>\n",
       "      <td>NaN</td>\n",
       "      <td>NaN</td>\n",
       "      <td>NaN</td>\n",
       "      <td>53.3</td>\n",
       "      <td>30.7</td>\n",
       "      <td>1</td>\n",
       "      <td>26.550000</td>\n",
       "      <td>9.250000</td>\n",
       "      <td>24.6</td>\n",
       "    </tr>\n",
       "    <tr>\n",
       "      <th>4</th>\n",
       "      <td>2013.0</td>\n",
       "      <td>21</td>\n",
       "      <td>Central</td>\n",
       "      <td>72.4</td>\n",
       "      <td>NaN</td>\n",
       "      <td>NaN</td>\n",
       "      <td>NaN</td>\n",
       "      <td>43.9</td>\n",
       "      <td>33.6</td>\n",
       "      <td>1</td>\n",
       "      <td>28.466667</td>\n",
       "      <td>4.916667</td>\n",
       "      <td>23.7</td>\n",
       "    </tr>\n",
       "    <tr>\n",
       "      <th>...</th>\n",
       "      <td>...</td>\n",
       "      <td>...</td>\n",
       "      <td>...</td>\n",
       "      <td>...</td>\n",
       "      <td>...</td>\n",
       "      <td>...</td>\n",
       "      <td>...</td>\n",
       "      <td>...</td>\n",
       "      <td>...</td>\n",
       "      <td>...</td>\n",
       "      <td>...</td>\n",
       "      <td>...</td>\n",
       "      <td>...</td>\n",
       "    </tr>\n",
       "    <tr>\n",
       "      <th>1563</th>\n",
       "      <td>2020.0</td>\n",
       "      <td>44</td>\n",
       "      <td>West</td>\n",
       "      <td>162.8</td>\n",
       "      <td>41.6</td>\n",
       "      <td>51.2</td>\n",
       "      <td>71.2</td>\n",
       "      <td>65.9</td>\n",
       "      <td>32.8</td>\n",
       "      <td>1</td>\n",
       "      <td>28.433333</td>\n",
       "      <td>10.290476</td>\n",
       "      <td>23.9</td>\n",
       "    </tr>\n",
       "    <tr>\n",
       "      <th>1564</th>\n",
       "      <td>2020.0</td>\n",
       "      <td>45</td>\n",
       "      <td>Central</td>\n",
       "      <td>110.0</td>\n",
       "      <td>18.8</td>\n",
       "      <td>19.2</td>\n",
       "      <td>19.8</td>\n",
       "      <td>49.3</td>\n",
       "      <td>33.9</td>\n",
       "      <td>1</td>\n",
       "      <td>27.600000</td>\n",
       "      <td>4.826667</td>\n",
       "      <td>22.5</td>\n",
       "    </tr>\n",
       "    <tr>\n",
       "      <th>1565</th>\n",
       "      <td>2020.0</td>\n",
       "      <td>45</td>\n",
       "      <td>East</td>\n",
       "      <td>549.5</td>\n",
       "      <td>61.8</td>\n",
       "      <td>102.6</td>\n",
       "      <td>111.6</td>\n",
       "      <td>53.7</td>\n",
       "      <td>34.2</td>\n",
       "      <td>1</td>\n",
       "      <td>27.665000</td>\n",
       "      <td>6.925000</td>\n",
       "      <td>22.6</td>\n",
       "    </tr>\n",
       "    <tr>\n",
       "      <th>1566</th>\n",
       "      <td>2020.0</td>\n",
       "      <td>45</td>\n",
       "      <td>North</td>\n",
       "      <td>399.0</td>\n",
       "      <td>31.2</td>\n",
       "      <td>41.2</td>\n",
       "      <td>45.4</td>\n",
       "      <td>52.6</td>\n",
       "      <td>34.9</td>\n",
       "      <td>1</td>\n",
       "      <td>27.125714</td>\n",
       "      <td>5.765714</td>\n",
       "      <td>22.9</td>\n",
       "    </tr>\n",
       "    <tr>\n",
       "      <th>1567</th>\n",
       "      <td>2020.0</td>\n",
       "      <td>45</td>\n",
       "      <td>West</td>\n",
       "      <td>159.2</td>\n",
       "      <td>24.8</td>\n",
       "      <td>39.0</td>\n",
       "      <td>48.6</td>\n",
       "      <td>69.1</td>\n",
       "      <td>32.6</td>\n",
       "      <td>1</td>\n",
       "      <td>27.813333</td>\n",
       "      <td>9.233333</td>\n",
       "      <td>22.9</td>\n",
       "    </tr>\n",
       "  </tbody>\n",
       "</table>\n",
       "<p>1568 rows × 13 columns</p>\n",
       "</div>"
      ],
      "text/plain": [
       "        year  week   region  total_daily_rainfall  highest_30min_rainfall  \\\n",
       "0     2013.0     1  Central                   2.6                     NaN   \n",
       "1     2013.0     1     East                  28.0                     NaN   \n",
       "2     2013.0     1    North                  50.2                     NaN   \n",
       "3     2013.0     1     West                  22.8                     NaN   \n",
       "4     2013.0    21  Central                  72.4                     NaN   \n",
       "...      ...   ...      ...                   ...                     ...   \n",
       "1563  2020.0    44     West                 162.8                    41.6   \n",
       "1564  2020.0    45  Central                 110.0                    18.8   \n",
       "1565  2020.0    45     East                 549.5                    61.8   \n",
       "1566  2020.0    45    North                 399.0                    31.2   \n",
       "1567  2020.0    45     West                 159.2                    24.8   \n",
       "\n",
       "      highest_60min_rainfall  highest_120min_rainfall  max_wind_sp  max_temp  \\\n",
       "0                        NaN                      NaN         48.6      30.6   \n",
       "1                        NaN                      NaN         39.2      30.4   \n",
       "2                        NaN                      NaN         40.7      31.5   \n",
       "3                        NaN                      NaN         53.3      30.7   \n",
       "4                        NaN                      NaN         43.9      33.6   \n",
       "...                      ...                      ...          ...       ...   \n",
       "1563                    51.2                     71.2         65.9      32.8   \n",
       "1564                    19.2                     19.8         49.3      33.9   \n",
       "1565                   102.6                    111.6         53.7      34.2   \n",
       "1566                    41.2                     45.4         52.6      34.9   \n",
       "1567                    39.0                     48.6         69.1      32.6   \n",
       "\n",
       "      rainy_day  mean_temp  mean_wind_sp  min_temp  \n",
       "0             1  26.675000      8.920000      24.8  \n",
       "1             1  26.483333     12.157143      24.8  \n",
       "2             1  26.000000      9.289474      23.6  \n",
       "3             1  26.550000      9.250000      24.6  \n",
       "4             1  28.466667      4.916667      23.7  \n",
       "...         ...        ...           ...       ...  \n",
       "1563          1  28.433333     10.290476      23.9  \n",
       "1564          1  27.600000      4.826667      22.5  \n",
       "1565          1  27.665000      6.925000      22.6  \n",
       "1566          1  27.125714      5.765714      22.9  \n",
       "1567          1  27.813333      9.233333      22.9  \n",
       "\n",
       "[1568 rows x 13 columns]"
      ]
     },
     "execution_count": 24,
     "metadata": {},
     "output_type": "execute_result"
    }
   ],
   "source": [
    "aggweather_df=aggweather_df.reset_index()\n",
    "aggweather_df"
   ]
  },
  {
   "cell_type": "code",
   "execution_count": 25,
   "id": "864a4888-e573-42ca-9141-32e21c22248a",
   "metadata": {
    "execution": {
     "iopub.execute_input": "2023-04-08T20:39:27.525173Z",
     "iopub.status.busy": "2023-04-08T20:39:27.525084Z",
     "iopub.status.idle": "2023-04-08T20:39:27.534748Z",
     "shell.execute_reply": "2023-04-08T20:39:27.534419Z",
     "shell.execute_reply.started": "2023-04-08T20:39:27.525165Z"
    },
    "tags": []
   },
   "outputs": [],
   "source": [
    "aggweather_df.to_csv('../assets/agg_climate_2013-2019.csv',index=False)"
   ]
  }
 ],
 "metadata": {
  "kernelspec": {
   "display_name": "Python [conda env:dsi-sg] *",
   "language": "python",
   "name": "conda-env-dsi-sg-py"
  },
  "language_info": {
   "codemirror_mode": {
    "name": "ipython",
    "version": 3
   },
   "file_extension": ".py",
   "mimetype": "text/x-python",
   "name": "python",
   "nbconvert_exporter": "python",
   "pygments_lexer": "ipython3",
   "version": "3.11.0"
  }
 },
 "nbformat": 4,
 "nbformat_minor": 5
}
